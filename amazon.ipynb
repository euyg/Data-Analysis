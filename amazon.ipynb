{
 "cells": [
  {
   "cell_type": "code",
   "execution_count": 91,
   "id": "602f31ec",
   "metadata": {},
   "outputs": [],
   "source": [
    "import numpy as np \n",
    "import pandas as pd\n",
    "import seaborn as sns\n",
    "import numpy as np \n",
    "import pandas as pd \n",
    "from sklearn.metrics import confusion_matrix\n",
    "from sklearn.metrics import f1_score\n",
    "from sklearn.metrics import accuracy_score\n",
    "import pandas as pd\n",
    "import numpy as np\n",
    "import matplotlib.pyplot as plt\n",
    "from sklearn.model_selection import train_test_split\n",
    "from sklearn.linear_model import LogisticRegression\n",
    "from sklearn.metrics import mean_squared_error\n",
    "from sklearn.metrics import mean_absolute_error\n",
    "from sklearn.metrics import r2_score\n",
    "from sklearn.tree import DecisionTreeRegressor\n",
    "from sklearn.ensemble import RandomForestClassifier"
   ]
  },
  {
   "cell_type": "code",
   "execution_count": 92,
   "id": "bf19f583",
   "metadata": {},
   "outputs": [],
   "source": [
    "train = pd.read_csv('amazon_train.csv')\n",
    "test= pd.read_csv('amazon_test.csv')"
   ]
  },
  {
   "cell_type": "code",
   "execution_count": 93,
   "id": "8f71489e",
   "metadata": {},
   "outputs": [
    {
     "data": {
      "text/html": [
       "<div>\n",
       "<style scoped>\n",
       "    .dataframe tbody tr th:only-of-type {\n",
       "        vertical-align: middle;\n",
       "    }\n",
       "\n",
       "    .dataframe tbody tr th {\n",
       "        vertical-align: top;\n",
       "    }\n",
       "\n",
       "    .dataframe thead th {\n",
       "        text-align: right;\n",
       "    }\n",
       "</style>\n",
       "<table border=\"1\" class=\"dataframe\">\n",
       "  <thead>\n",
       "    <tr style=\"text-align: right;\">\n",
       "      <th></th>\n",
       "      <th>ACTION</th>\n",
       "      <th>RESOURCE</th>\n",
       "      <th>MGR_ID</th>\n",
       "      <th>ROLE_ROLLUP_1</th>\n",
       "      <th>ROLE_ROLLUP_2</th>\n",
       "      <th>ROLE_DEPTNAME</th>\n",
       "      <th>ROLE_TITLE</th>\n",
       "      <th>ROLE_FAMILY_DESC</th>\n",
       "      <th>ROLE_FAMILY</th>\n",
       "      <th>ROLE_CODE</th>\n",
       "    </tr>\n",
       "  </thead>\n",
       "  <tbody>\n",
       "    <tr>\n",
       "      <th>0</th>\n",
       "      <td>1</td>\n",
       "      <td>39353</td>\n",
       "      <td>85475</td>\n",
       "      <td>117961</td>\n",
       "      <td>118300</td>\n",
       "      <td>123472</td>\n",
       "      <td>117905</td>\n",
       "      <td>117906</td>\n",
       "      <td>290919</td>\n",
       "      <td>117908</td>\n",
       "    </tr>\n",
       "    <tr>\n",
       "      <th>1</th>\n",
       "      <td>1</td>\n",
       "      <td>17183</td>\n",
       "      <td>1540</td>\n",
       "      <td>117961</td>\n",
       "      <td>118343</td>\n",
       "      <td>123125</td>\n",
       "      <td>118536</td>\n",
       "      <td>118536</td>\n",
       "      <td>308574</td>\n",
       "      <td>118539</td>\n",
       "    </tr>\n",
       "    <tr>\n",
       "      <th>2</th>\n",
       "      <td>1</td>\n",
       "      <td>36724</td>\n",
       "      <td>14457</td>\n",
       "      <td>118219</td>\n",
       "      <td>118220</td>\n",
       "      <td>117884</td>\n",
       "      <td>117879</td>\n",
       "      <td>267952</td>\n",
       "      <td>19721</td>\n",
       "      <td>117880</td>\n",
       "    </tr>\n",
       "    <tr>\n",
       "      <th>3</th>\n",
       "      <td>1</td>\n",
       "      <td>36135</td>\n",
       "      <td>5396</td>\n",
       "      <td>117961</td>\n",
       "      <td>118343</td>\n",
       "      <td>119993</td>\n",
       "      <td>118321</td>\n",
       "      <td>240983</td>\n",
       "      <td>290919</td>\n",
       "      <td>118322</td>\n",
       "    </tr>\n",
       "    <tr>\n",
       "      <th>4</th>\n",
       "      <td>1</td>\n",
       "      <td>42680</td>\n",
       "      <td>5905</td>\n",
       "      <td>117929</td>\n",
       "      <td>117930</td>\n",
       "      <td>119569</td>\n",
       "      <td>119323</td>\n",
       "      <td>123932</td>\n",
       "      <td>19793</td>\n",
       "      <td>119325</td>\n",
       "    </tr>\n",
       "  </tbody>\n",
       "</table>\n",
       "</div>"
      ],
      "text/plain": [
       "   ACTION  RESOURCE  MGR_ID  ROLE_ROLLUP_1  ROLE_ROLLUP_2  ROLE_DEPTNAME  \\\n",
       "0       1     39353   85475         117961         118300         123472   \n",
       "1       1     17183    1540         117961         118343         123125   \n",
       "2       1     36724   14457         118219         118220         117884   \n",
       "3       1     36135    5396         117961         118343         119993   \n",
       "4       1     42680    5905         117929         117930         119569   \n",
       "\n",
       "   ROLE_TITLE  ROLE_FAMILY_DESC  ROLE_FAMILY  ROLE_CODE  \n",
       "0      117905            117906       290919     117908  \n",
       "1      118536            118536       308574     118539  \n",
       "2      117879            267952        19721     117880  \n",
       "3      118321            240983       290919     118322  \n",
       "4      119323            123932        19793     119325  "
      ]
     },
     "execution_count": 93,
     "metadata": {},
     "output_type": "execute_result"
    }
   ],
   "source": [
    "train.head()"
   ]
  },
  {
   "cell_type": "code",
   "execution_count": 94,
   "id": "f1413e30",
   "metadata": {},
   "outputs": [
    {
     "name": "stdout",
     "output_type": "stream",
     "text": [
      "<class 'pandas.core.frame.DataFrame'>\n",
      "RangeIndex: 32769 entries, 0 to 32768\n",
      "Data columns (total 10 columns):\n",
      " #   Column            Non-Null Count  Dtype\n",
      "---  ------            --------------  -----\n",
      " 0   ACTION            32769 non-null  int64\n",
      " 1   RESOURCE          32769 non-null  int64\n",
      " 2   MGR_ID            32769 non-null  int64\n",
      " 3   ROLE_ROLLUP_1     32769 non-null  int64\n",
      " 4   ROLE_ROLLUP_2     32769 non-null  int64\n",
      " 5   ROLE_DEPTNAME     32769 non-null  int64\n",
      " 6   ROLE_TITLE        32769 non-null  int64\n",
      " 7   ROLE_FAMILY_DESC  32769 non-null  int64\n",
      " 8   ROLE_FAMILY       32769 non-null  int64\n",
      " 9   ROLE_CODE         32769 non-null  int64\n",
      "dtypes: int64(10)\n",
      "memory usage: 2.5 MB\n"
     ]
    }
   ],
   "source": [
    "train.info()"
   ]
  },
  {
   "cell_type": "code",
   "execution_count": 95,
   "id": "ccc44213",
   "metadata": {},
   "outputs": [
    {
     "data": {
      "text/html": [
       "<div>\n",
       "<style scoped>\n",
       "    .dataframe tbody tr th:only-of-type {\n",
       "        vertical-align: middle;\n",
       "    }\n",
       "\n",
       "    .dataframe tbody tr th {\n",
       "        vertical-align: top;\n",
       "    }\n",
       "\n",
       "    .dataframe thead th {\n",
       "        text-align: right;\n",
       "    }\n",
       "</style>\n",
       "<table border=\"1\" class=\"dataframe\">\n",
       "  <thead>\n",
       "    <tr style=\"text-align: right;\">\n",
       "      <th></th>\n",
       "      <th>id</th>\n",
       "      <th>RESOURCE</th>\n",
       "      <th>MGR_ID</th>\n",
       "      <th>ROLE_ROLLUP_1</th>\n",
       "      <th>ROLE_ROLLUP_2</th>\n",
       "      <th>ROLE_DEPTNAME</th>\n",
       "      <th>ROLE_TITLE</th>\n",
       "      <th>ROLE_FAMILY_DESC</th>\n",
       "      <th>ROLE_FAMILY</th>\n",
       "      <th>ROLE_CODE</th>\n",
       "    </tr>\n",
       "  </thead>\n",
       "  <tbody>\n",
       "    <tr>\n",
       "      <th>0</th>\n",
       "      <td>1</td>\n",
       "      <td>78766</td>\n",
       "      <td>72734</td>\n",
       "      <td>118079</td>\n",
       "      <td>118080</td>\n",
       "      <td>117878</td>\n",
       "      <td>117879</td>\n",
       "      <td>118177</td>\n",
       "      <td>19721</td>\n",
       "      <td>117880</td>\n",
       "    </tr>\n",
       "    <tr>\n",
       "      <th>1</th>\n",
       "      <td>2</td>\n",
       "      <td>40644</td>\n",
       "      <td>4378</td>\n",
       "      <td>117961</td>\n",
       "      <td>118327</td>\n",
       "      <td>118507</td>\n",
       "      <td>118863</td>\n",
       "      <td>122008</td>\n",
       "      <td>118398</td>\n",
       "      <td>118865</td>\n",
       "    </tr>\n",
       "    <tr>\n",
       "      <th>2</th>\n",
       "      <td>3</td>\n",
       "      <td>75443</td>\n",
       "      <td>2395</td>\n",
       "      <td>117961</td>\n",
       "      <td>118300</td>\n",
       "      <td>119488</td>\n",
       "      <td>118172</td>\n",
       "      <td>301534</td>\n",
       "      <td>249618</td>\n",
       "      <td>118175</td>\n",
       "    </tr>\n",
       "    <tr>\n",
       "      <th>3</th>\n",
       "      <td>4</td>\n",
       "      <td>43219</td>\n",
       "      <td>19986</td>\n",
       "      <td>117961</td>\n",
       "      <td>118225</td>\n",
       "      <td>118403</td>\n",
       "      <td>120773</td>\n",
       "      <td>136187</td>\n",
       "      <td>118960</td>\n",
       "      <td>120774</td>\n",
       "    </tr>\n",
       "    <tr>\n",
       "      <th>4</th>\n",
       "      <td>5</td>\n",
       "      <td>42093</td>\n",
       "      <td>50015</td>\n",
       "      <td>117961</td>\n",
       "      <td>118343</td>\n",
       "      <td>119598</td>\n",
       "      <td>118422</td>\n",
       "      <td>300136</td>\n",
       "      <td>118424</td>\n",
       "      <td>118425</td>\n",
       "    </tr>\n",
       "  </tbody>\n",
       "</table>\n",
       "</div>"
      ],
      "text/plain": [
       "   id  RESOURCE  MGR_ID  ROLE_ROLLUP_1  ROLE_ROLLUP_2  ROLE_DEPTNAME  \\\n",
       "0   1     78766   72734         118079         118080         117878   \n",
       "1   2     40644    4378         117961         118327         118507   \n",
       "2   3     75443    2395         117961         118300         119488   \n",
       "3   4     43219   19986         117961         118225         118403   \n",
       "4   5     42093   50015         117961         118343         119598   \n",
       "\n",
       "   ROLE_TITLE  ROLE_FAMILY_DESC  ROLE_FAMILY  ROLE_CODE  \n",
       "0      117879            118177        19721     117880  \n",
       "1      118863            122008       118398     118865  \n",
       "2      118172            301534       249618     118175  \n",
       "3      120773            136187       118960     120774  \n",
       "4      118422            300136       118424     118425  "
      ]
     },
     "execution_count": 95,
     "metadata": {},
     "output_type": "execute_result"
    }
   ],
   "source": [
    "test.head()"
   ]
  },
  {
   "cell_type": "code",
   "execution_count": 96,
   "id": "ed06d4eb",
   "metadata": {},
   "outputs": [
    {
     "name": "stdout",
     "output_type": "stream",
     "text": [
      "<class 'pandas.core.frame.DataFrame'>\n",
      "RangeIndex: 58921 entries, 0 to 58920\n",
      "Data columns (total 10 columns):\n",
      " #   Column            Non-Null Count  Dtype\n",
      "---  ------            --------------  -----\n",
      " 0   id                58921 non-null  int64\n",
      " 1   RESOURCE          58921 non-null  int64\n",
      " 2   MGR_ID            58921 non-null  int64\n",
      " 3   ROLE_ROLLUP_1     58921 non-null  int64\n",
      " 4   ROLE_ROLLUP_2     58921 non-null  int64\n",
      " 5   ROLE_DEPTNAME     58921 non-null  int64\n",
      " 6   ROLE_TITLE        58921 non-null  int64\n",
      " 7   ROLE_FAMILY_DESC  58921 non-null  int64\n",
      " 8   ROLE_FAMILY       58921 non-null  int64\n",
      " 9   ROLE_CODE         58921 non-null  int64\n",
      "dtypes: int64(10)\n",
      "memory usage: 4.5 MB\n"
     ]
    }
   ],
   "source": [
    "test.info()"
   ]
  },
  {
   "cell_type": "code",
   "execution_count": 97,
   "id": "d26413fc",
   "metadata": {},
   "outputs": [
    {
     "data": {
      "text/plain": [
       "ACTION              0\n",
       "RESOURCE            0\n",
       "MGR_ID              0\n",
       "ROLE_ROLLUP_1       0\n",
       "ROLE_ROLLUP_2       0\n",
       "ROLE_DEPTNAME       0\n",
       "ROLE_TITLE          0\n",
       "ROLE_FAMILY_DESC    0\n",
       "ROLE_FAMILY         0\n",
       "ROLE_CODE           0\n",
       "dtype: int64"
      ]
     },
     "execution_count": 97,
     "metadata": {},
     "output_type": "execute_result"
    }
   ],
   "source": [
    "train.isnull().sum()"
   ]
  },
  {
   "cell_type": "code",
   "execution_count": 98,
   "id": "e435d43d",
   "metadata": {},
   "outputs": [
    {
     "data": {
      "text/plain": [
       "id                  0\n",
       "RESOURCE            0\n",
       "MGR_ID              0\n",
       "ROLE_ROLLUP_1       0\n",
       "ROLE_ROLLUP_2       0\n",
       "ROLE_DEPTNAME       0\n",
       "ROLE_TITLE          0\n",
       "ROLE_FAMILY_DESC    0\n",
       "ROLE_FAMILY         0\n",
       "ROLE_CODE           0\n",
       "dtype: int64"
      ]
     },
     "execution_count": 98,
     "metadata": {},
     "output_type": "execute_result"
    }
   ],
   "source": [
    "test.isnull().sum()"
   ]
  },
  {
   "cell_type": "code",
   "execution_count": 99,
   "id": "2387aa6b",
   "metadata": {},
   "outputs": [
    {
     "data": {
      "image/png": "[encoded data removed]",
      "text/plain": [
       "<Figure size 432x288 with 1 Axes>"
      ]
     },
     "metadata": {},
     "output_type": "display_data"
    },
    {
     "name": "stdout",
     "output_type": "stream",
     "text": [
      "94.21 % of train_data can be accessed\n",
      "5.79 % of test_data tested cannot be accessed\n"
     ]
    }
   ],
   "source": [
    "# visualize the number of people who were granted access \n",
    "sns.set_style('whitegrid')\n",
    "sns.countplot(x='ACTION',data=train,palette='RdBu_r')\n",
    "plt.show()\n",
    "\n",
    "print(np.round(train[train['ACTION']==1].shape[0]/train.shape[0]*100,2),'% of train_data can be accessed')\n",
    "print(np.round(train[train['ACTION']==0].shape[0]/train.shape[0]*100,2),'% of test_data tested cannot be accessed')"
   ]
  },
  {
   "cell_type": "code",
   "execution_count": 100,
   "id": "cedaf5c4",
   "metadata": {},
   "outputs": [
    {
     "data": {
      "image/png": "[encoded data removed]",
      "text/plain": [
       "<Figure size 432x288 with 1 Axes>"
      ]
     },
     "metadata": {},
     "output_type": "display_data"
    }
   ],
   "source": [
    "feat_importances = pd.Series(rf.feature_importances_, index=train.drop('ACTION', axis=1).columns)\n",
    "feat_importances.sort_values().plot(kind='barh')\n",
    "plt.show()"
   ]
  },
  {
   "cell_type": "code",
   "execution_count": 101,
   "id": "e99cb340",
   "metadata": {},
   "outputs": [],
   "source": [
    "y=train['ACTION']\n",
    "x=train.drop('ACTION',axis=1)"
   ]
  },
  {
   "cell_type": "code",
   "execution_count": 102,
   "id": "c12908c4",
   "metadata": {},
   "outputs": [],
   "source": [
    "#Splitting training and testing data\n",
    "x_train, x_test, y_train, y_test = train_test_split(x, y, train_size=0.70,test_size=0.30, random_state=0)"
   ]
  },
  {
   "cell_type": "code",
   "execution_count": 103,
   "id": "da60b770",
   "metadata": {},
   "outputs": [
    {
     "name": "stdout",
     "output_type": "stream",
     "text": [
      "Mean Squared Error: 0.05675923100396704\n",
      "R score: -0.06017470074409559\n",
      "Mean Absolute Error: 0.05675923100396704\n",
      "f1 score:\n",
      "0.9707914572864321\n",
      "accuracy score:\n",
      "0.9432407689960329\n"
     ]
    }
   ],
   "source": [
    "#Logistic Regression\n",
    "LogisticRegressor = LogisticRegression(max_iter=10000)\n",
    "LogisticRegressor.fit(x_train, y_train)\n",
    "y_predicted = LogisticRegressor.predict(x_test)\n",
    "mse = mean_squared_error(y_test, y_predicted)\n",
    "r = r2_score(y_test, y_predicted)\n",
    "mae = mean_absolute_error(y_test,y_predicted)\n",
    "print(\"Mean Squared Error:\",mse)\n",
    "print(\"R score:\",r)\n",
    "print(\"Mean Absolute Error:\",mae)\n",
    "print('f1 score:')\n",
    "print(f1_score(y_test,y_predicted))\n",
    "print('accuracy score:')\n",
    "print(accuracy_score(y_test,y_predicted))"
   ]
  },
  {
   "cell_type": "code",
   "execution_count": 104,
   "id": "f2e0cb23",
   "metadata": {},
   "outputs": [
    {
     "name": "stdout",
     "output_type": "stream",
     "text": [
      "Mean Squared Error: 0.0729325602685383\n",
      "R score: -0.362267491816338\n",
      "Mean Absolute Error: 0.0729325602685383\n",
      "f1 score:\n",
      "0.9612117933459561\n",
      "accuracy score:\n",
      "0.9270674397314617\n"
     ]
    }
   ],
   "source": [
    "# Decision Tree - CART\n",
    "regressor = DecisionTreeRegressor(random_state = 0)\n",
    "regressor.fit(x_train, y_train)\n",
    "y_predicted_d = regressor.predict(x_test)\n",
    "mse = mean_squared_error(y_test, y_predicted_d)\n",
    "r = r2_score(y_test, y_predicted_d)\n",
    "mae = mean_absolute_error(y_test,y_predicted_d)\n",
    "print(\"Mean Squared Error:\",mse)\n",
    "print(\"R score:\",r)\n",
    "print(\"Mean Absolute Error:\",mae)\n",
    "print('f1 score:')\n",
    "print(f1_score(y_test,y_predicted_d))\n",
    "print('accuracy score:')\n",
    "print(accuracy_score(y_test,y_predicted_d))"
   ]
  },
  {
   "cell_type": "code",
   "execution_count": 105,
   "id": "483322b7",
   "metadata": {},
   "outputs": [
    {
     "name": "stdout",
     "output_type": "stream",
     "text": [
      "Mean Squared Error: 0.051876716509002135\n",
      "R score: 0.031023122975826545\n",
      "Mean Absolute Error: 0.051876716509002135\n",
      "f1 score:\n",
      "0.9728029010238908\n",
      "accuracy score:\n",
      "0.9481232834909978\n"
     ]
    }
   ],
   "source": [
    "# Random Forest\n",
    "rf = RandomForestClassifier()\n",
    "rf.fit(x_train,y_train);\n",
    "y_predicted_r = rf.predict(x_test)\n",
    "mse = mean_squared_error(y_test, y_predicted_r)\n",
    "r = r2_score(y_test, y_predicted_r)\n",
    "mae = mean_absolute_error(y_test,y_predicted_r)\n",
    "print(\"Mean Squared Error:\",mse)\n",
    "print(\"R score:\",r)\n",
    "print(\"Mean Absolute Error:\",mae)\n",
    "print('f1 score:')\n",
    "print(f1_score(y_test,y_predicted_r))\n",
    "print('accuracy score:')\n",
    "print(accuracy_score(y_test,y_predicted_r))"
   ]
  },
  {
   "cell_type": "code",
   "execution_count": 106,
   "id": "711b07a9",
   "metadata": {},
   "outputs": [],
   "source": [
    "# copy the test data\n",
    "testdata = test"
   ]
  },
  {
   "cell_type": "code",
   "execution_count": 107,
   "id": "5a852b92",
   "metadata": {},
   "outputs": [],
   "source": [
    "test=test.drop('id',axis=1)"
   ]
  },
  {
   "cell_type": "code",
   "execution_count": 108,
   "id": "89656df4",
   "metadata": {},
   "outputs": [
    {
     "data": {
      "text/plain": [
       "array([1, 1, 1, ..., 1, 1, 1])"
      ]
     },
     "execution_count": 108,
     "metadata": {},
     "output_type": "execute_result"
    }
   ],
   "source": [
    "# Random Forest as the final model\n",
    "rf = RandomForestClassifier()\n",
    "rf.fit(x,y)\n",
    "Prediction = rf.predict(test)\n",
    "Prediction"
   ]
  },
  {
   "cell_type": "code",
   "execution_count": 109,
   "id": "aee1b7a5",
   "metadata": {},
   "outputs": [
    {
     "data": {
      "text/html": [
       "<div>\n",
       "<style scoped>\n",
       "    .dataframe tbody tr th:only-of-type {\n",
       "        vertical-align: middle;\n",
       "    }\n",
       "\n",
       "    .dataframe tbody tr th {\n",
       "        vertical-align: top;\n",
       "    }\n",
       "\n",
       "    .dataframe thead th {\n",
       "        text-align: right;\n",
       "    }\n",
       "</style>\n",
       "<table border=\"1\" class=\"dataframe\">\n",
       "  <thead>\n",
       "    <tr style=\"text-align: right;\">\n",
       "      <th></th>\n",
       "      <th>ID</th>\n",
       "      <th>ACTION</th>\n",
       "    </tr>\n",
       "  </thead>\n",
       "  <tbody>\n",
       "    <tr>\n",
       "      <th>0</th>\n",
       "      <td>1</td>\n",
       "      <td>1</td>\n",
       "    </tr>\n",
       "    <tr>\n",
       "      <th>1</th>\n",
       "      <td>2</td>\n",
       "      <td>1</td>\n",
       "    </tr>\n",
       "    <tr>\n",
       "      <th>2</th>\n",
       "      <td>3</td>\n",
       "      <td>1</td>\n",
       "    </tr>\n",
       "    <tr>\n",
       "      <th>3</th>\n",
       "      <td>4</td>\n",
       "      <td>1</td>\n",
       "    </tr>\n",
       "    <tr>\n",
       "      <th>4</th>\n",
       "      <td>5</td>\n",
       "      <td>1</td>\n",
       "    </tr>\n",
       "  </tbody>\n",
       "</table>\n",
       "</div>"
      ],
      "text/plain": [
       "   ID  ACTION\n",
       "0   1       1\n",
       "1   2       1\n",
       "2   3       1\n",
       "3   4       1\n",
       "4   5       1"
      ]
     },
     "execution_count": 109,
     "metadata": {},
     "output_type": "execute_result"
    }
   ],
   "source": [
    "result = pd.DataFrame({'ID':testdata['id'], 'ACTION':Prediction})\n",
    "result.head()"
   ]
  },
  {
   "cell_type": "code",
   "execution_count": null,
   "id": "d81a16d2",
   "metadata": {},
   "outputs": [],
   "source": []
  }
 ],
 "metadata": {
  "kernelspec": {
   "display_name": "Python 3 (ipykernel)",
   "language": "python",
   "name": "python3"
  },
  "language_info": {
   "codemirror_mode": {
    "name": "ipython",
    "version": 3
   },
   "file_extension": ".py",
   "mimetype": "text/x-python",
   "name": "python",
   "nbconvert_exporter": "python",
   "pygments_lexer": "ipython3",
   "version": "3.9.7"
  }
 },
 "nbformat": 4,
 "nbformat_minor": 5
}
